{
 "cells": [
  {
   "cell_type": "markdown",
   "metadata": {},
   "source": [
    "# Практическая работа 5"
   ]
  },
  {
   "cell_type": "markdown",
   "metadata": {},
   "source": [
    "## Задача 1"
   ]
  },
  {
   "cell_type": "code",
   "execution_count": 1,
   "metadata": {},
   "outputs": [
    {
     "name": "stdout",
     "output_type": "stream",
     "text": [
      "50\n",
      "1\n",
      "4\n",
      "9\n",
      "16\n",
      "25\n",
      "36\n",
      "49\n"
     ]
    }
   ],
   "source": [
    "n = int(input())\n",
    "i = 1\n",
    "while i**2 <= n:\n",
    "    print(i**2)\n",
    "    i += 1"
   ]
  },
  {
   "cell_type": "markdown",
   "metadata": {},
   "source": [
    "## Задача 2"
   ]
  },
  {
   "cell_type": "code",
   "execution_count": 2,
   "metadata": {},
   "outputs": [
    {
     "name": "stdout",
     "output_type": "stream",
     "text": [
      "15\n",
      "3\n"
     ]
    }
   ],
   "source": [
    "n = int(input())\n",
    "i = 2\n",
    "while n % i != 0:\n",
    "    i += 1\n",
    "print(i)"
   ]
  },
  {
   "cell_type": "markdown",
   "metadata": {},
   "source": [
    "## Задача 3"
   ]
  },
  {
   "cell_type": "code",
   "execution_count": 3,
   "metadata": {},
   "outputs": [
    {
     "name": "stdout",
     "output_type": "stream",
     "text": [
      "50\n",
      "1\n",
      "2\n",
      "4\n",
      "8\n",
      "16\n",
      "32\n"
     ]
    }
   ],
   "source": [
    "n = int(input())\n",
    "i = 1\n",
    "while i <= n:\n",
    "    print(i)\n",
    "    i *= 2"
   ]
  },
  {
   "cell_type": "markdown",
   "metadata": {},
   "source": [
    "## Задача 4"
   ]
  },
  {
   "cell_type": "code",
   "execution_count": 5,
   "metadata": {},
   "outputs": [
    {
     "name": "stdout",
     "output_type": "stream",
     "text": [
      "1\n",
      "YES\n"
     ]
    }
   ],
   "source": [
    "n = int(input())\n",
    "i = 1\n",
    "flag = False\n",
    "while i <= n:\n",
    "    if i == n:\n",
    "        flag = True\n",
    "    i *= 2\n",
    "if flag:\n",
    "    print(\"YES\")\n",
    "else:\n",
    "    print(\"NO\")"
   ]
  },
  {
   "cell_type": "markdown",
   "metadata": {},
   "source": [
    "## Задача 5"
   ]
  },
  {
   "cell_type": "code",
   "execution_count": 6,
   "metadata": {},
   "outputs": [
    {
     "name": "stdout",
     "output_type": "stream",
     "text": [
      "1\n",
      "0\n"
     ]
    }
   ],
   "source": [
    "n = int(input())\n",
    "k = 0\n",
    "while 2 ** k < n:\n",
    "    k += 1\n",
    "print(k)"
   ]
  },
  {
   "cell_type": "markdown",
   "metadata": {},
   "source": [
    "## Задача 6"
   ]
  },
  {
   "cell_type": "code",
   "execution_count": 7,
   "metadata": {},
   "outputs": [
    {
     "name": "stdout",
     "output_type": "stream",
     "text": [
      "10\n",
      "20\n",
      "9\n"
     ]
    }
   ],
   "source": [
    "x, y = int(input()), int(input())\n",
    "i = 1\n",
    "while x < y:\n",
    "    x *= 1.1\n",
    "    i += 1\n",
    "print(i)"
   ]
  },
  {
   "cell_type": "markdown",
   "metadata": {},
   "source": [
    "## Задача 7"
   ]
  },
  {
   "cell_type": "code",
   "execution_count": 8,
   "metadata": {},
   "outputs": [
    {
     "name": "stdout",
     "output_type": "stream",
     "text": [
      "1\n",
      "7\n",
      "9\n",
      "0\n",
      "9\n"
     ]
    }
   ],
   "source": [
    "max = 0\n",
    "e = -1\n",
    "while e != 0:\n",
    "    e = int(input())\n",
    "    if e > max:\n",
    "        max = e\n",
    "print(max)"
   ]
  },
  {
   "cell_type": "markdown",
   "metadata": {},
   "source": [
    "## Задача 8"
   ]
  },
  {
   "cell_type": "code",
   "execution_count": 9,
   "metadata": {},
   "outputs": [
    {
     "name": "stdout",
     "output_type": "stream",
     "text": [
      "3\n",
      "14\n"
     ]
    }
   ],
   "source": [
    "n = int(input())\n",
    "s = 0\n",
    "for i in range(n+1):\n",
    "    s += i ** 2\n",
    "print(s)"
   ]
  },
  {
   "cell_type": "markdown",
   "metadata": {},
   "source": [
    "## Задача 9"
   ]
  },
  {
   "cell_type": "code",
   "execution_count": 1,
   "metadata": {},
   "outputs": [
    {
     "name": "stdout",
     "output_type": "stream",
     "text": [
      "1\n",
      "7\n",
      "9\n",
      "5\n",
      "0\n",
      "4\n"
     ]
    }
   ],
   "source": [
    "i = 0\n",
    "n = int\n",
    "while int(input()) != 0:\n",
    "    i += 1\n",
    "print(i)"
   ]
  },
  {
   "cell_type": "markdown",
   "metadata": {},
   "source": [
    "## Задача 10"
   ]
  },
  {
   "cell_type": "code",
   "execution_count": 1,
   "metadata": {},
   "outputs": [
    {
     "name": "stdout",
     "output_type": "stream",
     "text": [
      "1\n",
      "7\n",
      "9\n",
      "0\n",
      "17\n"
     ]
    }
   ],
   "source": [
    "s = 0\n",
    "n = int(input())\n",
    "while n != 0:\n",
    "    s += n\n",
    "    n = int(input())\n",
    "print(s)"
   ]
  },
  {
   "cell_type": "markdown",
   "metadata": {},
   "source": [
    "## Задача 11"
   ]
  },
  {
   "cell_type": "code",
   "execution_count": 4,
   "metadata": {},
   "outputs": [
    {
     "name": "stdout",
     "output_type": "stream",
     "text": [
      "1\n",
      "7\n",
      "9\n",
      "0\n",
      "5.666666666666667\n"
     ]
    }
   ],
   "source": [
    "s = 0\n",
    "n = int(input())\n",
    "i = 0\n",
    "while n != 0:\n",
    "    s += n\n",
    "    i += 1\n",
    "    n = int(input())\n",
    "print(s / i)"
   ]
  },
  {
   "cell_type": "markdown",
   "metadata": {},
   "source": [
    "## Задача 12"
   ]
  },
  {
   "cell_type": "code",
   "execution_count": 5,
   "metadata": {},
   "outputs": [
    {
     "name": "stdout",
     "output_type": "stream",
     "text": [
      "2\n",
      "1\n",
      "4\n",
      "0\n",
      "2\n"
     ]
    }
   ],
   "source": [
    "o = 0\n",
    "n = int(input())\n",
    "while n != 0:\n",
    "    if n % 2 == 0:\n",
    "        o += 1\n",
    "    n = int(input())\n",
    "print(o)"
   ]
  },
  {
   "cell_type": "markdown",
   "metadata": {},
   "source": [
    "## Задача 13"
   ]
  },
  {
   "cell_type": "code",
   "execution_count": 6,
   "metadata": {},
   "outputs": [
    {
     "name": "stdout",
     "output_type": "stream",
     "text": [
      "1\n",
      "7\n",
      "9\n",
      "0\n",
      "2\n"
     ]
    }
   ],
   "source": [
    "prev = int(input())\n",
    "n = 0\n",
    "while prev != 0:\n",
    "    next = int(input())\n",
    "    if next != 0 and prev < next:\n",
    "        n += 1\n",
    "    prev = next\n",
    "print(n)"
   ]
  },
  {
   "cell_type": "markdown",
   "metadata": {},
   "source": [
    "## Задача 14"
   ]
  },
  {
   "cell_type": "code",
   "execution_count": 7,
   "metadata": {},
   "outputs": [
    {
     "name": "stdout",
     "output_type": "stream",
     "text": [
      "1\n",
      "7\n",
      "9\n",
      "0\n",
      "7\n"
     ]
    }
   ],
   "source": [
    "f, s = int(input()), int(input())\n",
    "if f < s:\n",
    "    f, s = s, f\n",
    "n = int(input())\n",
    "while n != 0:\n",
    "    if n > f:\n",
    "        s, f = f, n\n",
    "    elif n > s:\n",
    "        s = n\n",
    "    n = int(input())\n",
    "print(s)"
   ]
  },
  {
   "cell_type": "markdown",
   "metadata": {},
   "source": [
    "## Задача 15"
   ]
  },
  {
   "cell_type": "code",
   "execution_count": 8,
   "metadata": {},
   "outputs": [
    {
     "name": "stdout",
     "output_type": "stream",
     "text": [
      "1\n",
      "7\n",
      "9\n",
      "0\n",
      "1\n"
     ]
    }
   ],
   "source": [
    "m = 0\n",
    "c = 0\n",
    "n = -1\n",
    "while n != 0:\n",
    "    n = int(input())\n",
    "    if n > m:\n",
    "        m = n\n",
    "        c = 1\n",
    "    elif n == m:\n",
    "        c += 1       \n",
    "print(c)"
   ]
  },
  {
   "cell_type": "markdown",
   "metadata": {},
   "source": [
    "## Задача 16"
   ]
  },
  {
   "cell_type": "code",
   "execution_count": 9,
   "metadata": {},
   "outputs": [
    {
     "name": "stdout",
     "output_type": "stream",
     "text": [
      "6\n",
      "8\n"
     ]
    }
   ],
   "source": [
    "n = int(input())\n",
    "if n == 0:\n",
    "    print(0)\n",
    "else:\n",
    "    a = 0\n",
    "    b = 1\n",
    "    for i in range(2, n + 1):\n",
    "        a, b = b, a + b\n",
    "    print(b)"
   ]
  },
  {
   "cell_type": "markdown",
   "metadata": {},
   "source": [
    "## Задача 17"
   ]
  },
  {
   "cell_type": "code",
   "execution_count": 1,
   "metadata": {},
   "outputs": [
    {
     "name": "stdout",
     "output_type": "stream",
     "text": [
      "8\n",
      "6\n"
     ]
    }
   ],
   "source": [
    "a = int(input())\n",
    "if a == 0:\n",
    "    print(0)\n",
    "else:\n",
    "    pr = 0 \n",
    "    ne = 1\n",
    "    n = 1\n",
    "    while ne <= a:\n",
    "        if ne == a:\n",
    "            print(n)\n",
    "            break\n",
    "        pr, ne = ne, pr + ne\n",
    "        n += 1\n",
    "    else:\n",
    "        print(-1)"
   ]
  },
  {
   "cell_type": "markdown",
   "metadata": {},
   "source": [
    "## Задача 18"
   ]
  },
  {
   "cell_type": "code",
   "execution_count": 2,
   "metadata": {},
   "outputs": [
    {
     "name": "stdout",
     "output_type": "stream",
     "text": [
      "179\n",
      "20\n",
      "-1\n",
      ":2\n",
      "-1\n",
      ":2\n",
      ":2\n",
      "-1\n",
      "-1\n"
     ]
    }
   ],
   "source": [
    "a, b = int(input()), int(input())\n",
    "while a!=b:\n",
    "    if (a//2>=b) and (a%2 == 0):\n",
    "        print(':2')\n",
    "        a//=2\n",
    "    else:\n",
    "        print('-1')\n",
    "        a-=1 "
   ]
  },
  {
   "cell_type": "markdown",
   "metadata": {},
   "source": [
    "## Задача 19"
   ]
  },
  {
   "cell_type": "code",
   "execution_count": 3,
   "metadata": {},
   "outputs": [
    {
     "name": "stdout",
     "output_type": "stream",
     "text": [
      "21\n",
      "12\n"
     ]
    }
   ],
   "source": [
    "n1 = int(input())\n",
    "n2 = 0\n",
    " \n",
    "while n1 > 0:\n",
    "    digit = n1 % 10  \n",
    "    n1 = n1 // 10    \n",
    "    n2 = n2 * 10     \n",
    "    n2 = n2 + digit   \n",
    "print(n2)"
   ]
  },
  {
   "cell_type": "markdown",
   "metadata": {},
   "source": [
    "## Задача 20"
   ]
  },
  {
   "cell_type": "code",
   "execution_count": 5,
   "metadata": {},
   "outputs": [
    {
     "name": "stdout",
     "output_type": "stream",
     "text": [
      "100\n",
      "18\n"
     ]
    }
   ],
   "source": [
    "n = int(input())\n",
    "number = 0\n",
    "countFlip = 0\n",
    "for number in range(1, n+1):\n",
    "    c = number\n",
    "    flip = 0\n",
    "    while c > 0:\n",
    "        flip = flip * 10 + c % 10\n",
    "        c = c // 10\n",
    "    if number == flip:\n",
    "        countFlip += 1\n",
    "print(countFlip)"
   ]
  },
  {
   "cell_type": "markdown",
   "metadata": {},
   "source": [
    "## Задача 21"
   ]
  },
  {
   "cell_type": "code",
   "execution_count": 6,
   "metadata": {},
   "outputs": [
    {
     "name": "stdout",
     "output_type": "stream",
     "text": [
      "1\n",
      "7\n",
      "7\n",
      "9\n",
      "1\n",
      "0\n",
      "2\n"
     ]
    }
   ],
   "source": [
    "prev = -1\n",
    "curr_rep = 0\n",
    "max_rep = 0\n",
    "n = int(input())\n",
    "while n != 0:\n",
    "    if prev == n:\n",
    "        curr_rep += 1\n",
    "    else:\n",
    "        prev = n\n",
    "        max_rep = max(max_rep, curr_rep)\n",
    "        curr_rep = 1\n",
    "    n = int(input())\n",
    "max_rep = max(max_rep, curr_rep)\n",
    "print(max_rep)"
   ]
  },
  {
   "cell_type": "markdown",
   "metadata": {},
   "source": [
    "## Задача 22"
   ]
  },
  {
   "cell_type": "code",
   "execution_count": 7,
   "metadata": {},
   "outputs": [
    {
     "name": "stdout",
     "output_type": "stream",
     "text": [
      "1\n",
      "7\n",
      "7\n",
      "9\n",
      "1\n",
      "0\n",
      "2\n"
     ]
    }
   ],
   "source": [
    "k = 1\n",
    "m = 1\n",
    "x = 1\n",
    "y = 1\n",
    "b = int(input())\n",
    "while(b):\n",
    "    a = b\n",
    "    b = int(input())\n",
    "    if b > a:\n",
    "        k += 1\n",
    "    else:\n",
    "        if k > m:\n",
    "            m = k\n",
    "        k = 1\n",
    "    if b < a:\n",
    "        x += 1\n",
    "    else:\n",
    "        if x > y:\n",
    "            y = x\n",
    "        x = 1\n",
    "print(max(m, y))\n",
    "        "
   ]
  },
  {
   "cell_type": "markdown",
   "metadata": {},
   "source": [
    "## Задача 23"
   ]
  },
  {
   "cell_type": "code",
   "execution_count": 8,
   "metadata": {},
   "outputs": [
    {
     "name": "stdout",
     "output_type": "stream",
     "text": [
      "1\n",
      "2\n",
      "1\n",
      "1\n",
      "2\n",
      "1\n",
      "2\n",
      "1\n",
      "0\n",
      "2\n"
     ]
    }
   ],
   "source": [
    "k = 0\n",
    "n = 0\n",
    "m = 0\n",
    "x, y, z = int(input()), int(input()), int(input())\n",
    "while z:\n",
    "    k += 1\n",
    "    if y > z and x < y:\n",
    "        n += 1\n",
    "        if n > 1 and (n == 2 or n > 2 and k < m):\n",
    "            m = k\n",
    "        k = 0\n",
    "    x = y\n",
    "    y = z\n",
    "    z = int(input())\n",
    "print(m)"
   ]
  },
  {
   "cell_type": "markdown",
   "metadata": {},
   "source": [
    "## Задача 24"
   ]
  },
  {
   "cell_type": "code",
   "execution_count": 9,
   "metadata": {},
   "outputs": [
    {
     "name": "stdout",
     "output_type": "stream",
     "text": [
      "3\n",
      "4\n",
      "5\n",
      "6.0\n"
     ]
    }
   ],
   "source": [
    "a, b, c = float(input()), float(input()), float(input())\n",
    "p = (a + b + c) / 2 \n",
    "s = (p * (p - a) * (p - b) * (p - c)) ** 0.5\n",
    "print(s)"
   ]
  }
 ],
 "metadata": {
  "kernelspec": {
   "display_name": "Python 3",
   "language": "python",
   "name": "python3"
  },
  "language_info": {
   "codemirror_mode": {
    "name": "ipython",
    "version": 3
   },
   "file_extension": ".py",
   "mimetype": "text/x-python",
   "name": "python",
   "nbconvert_exporter": "python",
   "pygments_lexer": "ipython3",
   "version": "3.7.6"
  }
 },
 "nbformat": 4,
 "nbformat_minor": 4
}
